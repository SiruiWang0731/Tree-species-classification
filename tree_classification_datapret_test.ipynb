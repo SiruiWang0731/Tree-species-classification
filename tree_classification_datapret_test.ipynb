{
 "cells": [
  {
   "cell_type": "code",
   "execution_count": 36,
   "metadata": {},
   "outputs": [],
   "source": [
    "# import the libraries you need\n",
    "\n",
    "import os\n",
    "import math\n",
    "import numpy as np\n",
    "import rasterio\n",
    "from tqdm import tqdm\n",
    "import requests\n",
    "import matplotlib.pyplot as plt\n",
    "import glob\n",
    "\n",
    "from osgeo import gdal\n",
    "import matplotlib.image as mpimg\n",
    "from matplotlib.image import imread\n",
    "from itertools import product\n",
    "from PIL import Image\n",
    "from itertools import chain\n",
    "import json\n",
    "from jsonpath import jsonpath \n",
    "\n",
    "from matplotlib.colors import Normalize\n",
    "\n",
    "from sklearn.ensemble import RandomForestClassifier\n",
    "from sklearn.metrics import confusion_matrix\n",
    "from sklearn.metrics import ConfusionMatrixDisplay\n",
    "from sklearn.metrics import accuracy_score\n",
    "from sklearn.utils.multiclass import type_of_target\n",
    "\n",
    "import tensorflow as tf\n",
    "import torch\n",
    "# Folium setup.\n",
    "import folium"
   ]
  },
  {
   "attachments": {},
   "cell_type": "markdown",
   "metadata": {},
   "source": [
    "var DE_Forest =Picea_abies.merge(Fagus_sylvatica).merge(Pinus_sylvestris).merge(Quercus_robur).merge(Betula_pendula)\n",
    ".merge(Quercus_petraea).merge(Fraxinus_excelsior).merge(Acer_pseudoplatanus).merge(Sorbus_aucuparia).merge(Carpinus_betulus)\n",
    ".merge(Larix_decidua).merge(Abies_alba).merge(Pseudotsuga_menziesii).merge(Frangula_alnus).merge(Alnus_glutinosa)\n",
    ".merge(Prunus_avium).merge(Populus_tremula).merge(Larix_kaempferi).merge(Quercus_rubra).merge(Acer_campestre)"
   ]
  },
  {
   "cell_type": "code",
   "execution_count": 75,
   "metadata": {},
   "outputs": [
    {
     "data": {
      "text/plain": [
       "<matplotlib.image.AxesImage at 0x294914a60>"
      ]
     },
     "execution_count": 75,
     "metadata": {},
     "output_type": "execute_result"
    },
    {
     "data": {
      "image/png": "[encoded data removed]",
      "text/plain": [
       "<Figure size 640x480 with 1 Axes>"
      ]
     },
     "metadata": {},
     "output_type": "display_data"
    }
   ],
   "source": [
    "\n",
    "data_path = '/Users/siruiwang/Documents/ESPACE-LECTURE/3rd_semester/Data science of earth observation/Project_data_science/TestSet/Betula pendula/'\n",
    "index=5\n",
    "tree_type = 'Betula_pendula'\n",
    "kernel=24\n",
    "bands=30\n",
    "images_tiff = np.zeros((100,24,24,30), dtype=float)\n",
    "for i in range(0,99):\n",
    "    image_path=os.path.join(data_path,( \"% s\" % i+\".tif\"))\n",
    "    data=np.zeros((24,24,30), dtype=float)\n",
    "    dataset = gdal.Open(image_path)\n",
    "    for x in range(1, dataset.RasterCount + 1):\n",
    "        band = dataset.GetRasterBand(x)\n",
    "        array = band.ReadAsArray()\n",
    "        data[:,:,x-1]=array\n",
    "    images_tiff[i,:]=data\n",
    "\n",
    "plt.imshow(images_tiff[1,:,:,1])\n"
   ]
  },
  {
   "cell_type": "code",
   "execution_count": 76,
   "metadata": {},
   "outputs": [],
   "source": [
    "def navie_sample(src_image, label):\n",
    "    # forest-1, debris-2, water-3\n",
    "    classes = label\n",
    "    # get the feature space from drone image\n",
    "    #with rasterio.open(src_image) as src_ds:\n",
    "    #    src = src_ds.read()\n",
    "       \n",
    "    yield (src_image, label)"
   ]
  },
  {
   "cell_type": "code",
   "execution_count": 77,
   "metadata": {},
   "outputs": [
    {
     "name": "stdout",
     "output_type": "stream",
     "text": [
      "(99, 1, 2)\n"
     ]
    }
   ],
   "source": [
    "########### define the result train/valid file #############\n",
    "### Here the tiles are then saved into numpy arraies\n",
    "root = r\"/Users/siruiwang/Documents/ESPACE-LECTURE/3rd_semester/Data science of earth observation/Project_data_science/data0131/npy/\"\n",
    "\n",
    "# training samples\n",
    "t_root = root + tree_type + \"_samples.npy\"\n",
    "t_sample = []\n",
    "num_sam = images_tiff.shape[0]\n",
    "for i in range(0,num_sam-1):\n",
    "    result = list(navie_sample(images_tiff[i], index))\n",
    "    t_sample.append(result)\n",
    "t_sample_array = np.array(t_sample, dtype=object)\n",
    "print(t_sample_array.shape)\n",
    "np.save(t_root, t_sample_array)"
   ]
  }
 ],
 "metadata": {
  "kernelspec": {
   "display_name": "tf261",
   "language": "python",
   "name": "python3"
  },
  "language_info": {
   "codemirror_mode": {
    "name": "ipython",
    "version": 3
   },
   "file_extension": ".py",
   "mimetype": "text/x-python",
   "name": "python",
   "nbconvert_exporter": "python",
   "pygments_lexer": "ipython3",
   "version": "3.8.15"
  },
  "orig_nbformat": 4,
  "vscode": {
   "interpreter": {
    "hash": "acaf033a36d6730063271301a09a798aea80818c27628795dce8ca3fc7528a19"
   }
  }
 },
 "nbformat": 4,
 "nbformat_minor": 2
}
