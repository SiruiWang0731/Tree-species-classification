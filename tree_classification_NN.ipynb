{
 "cells": [
  {
   "cell_type": "code",
   "execution_count": 1,
   "metadata": {},
   "outputs": [],
   "source": [
    "# import the libraries you need\n",
    "\n",
    "import os\n",
    "import math\n",
    "import numpy as np\n",
    "import pandas as pd\n",
    "import rasterio\n",
    "from tqdm import tqdm\n",
    "import requests\n",
    "import matplotlib.pyplot as plt\n",
    "import glob\n",
    "import matplotlib.image as mpimg\n",
    "from matplotlib.image import imread\n",
    "from itertools import product\n",
    "from PIL import Image\n",
    "from itertools import chain\n",
    "import json\n",
    "from jsonpath import jsonpath \n",
    "\n",
    "from matplotlib.colors import Normalize\n",
    "\n",
    "from sklearn.ensemble import RandomForestClassifier\n",
    "from sklearn.metrics import confusion_matrix\n",
    "from sklearn.metrics import ConfusionMatrixDisplay\n",
    "from sklearn.metrics import accuracy_score\n",
    "from sklearn.utils.multiclass import type_of_target\n",
    "\n",
    "import tensorflow as tf\n",
    "from tensorflow.keras import datasets, layers, models\n",
    "import torch\n",
    "# Folium setup.\n",
    "import folium"
   ]
  },
  {
   "cell_type": "code",
   "execution_count": 2,
   "metadata": {},
   "outputs": [
    {
     "name": "stderr",
     "output_type": "stream",
     "text": [
      "4it [00:00, 360.35it/s]"
     ]
    },
    {
     "name": "stdout",
     "output_type": "stream",
     "text": [
      "Now all merge samples are saved!\n"
     ]
    },
    {
     "name": "stderr",
     "output_type": "stream",
     "text": [
      "\n"
     ]
    }
   ],
   "source": [
    "# get all npy files\n",
    "## The ratio can also be changed\n",
    "path= '/Users/siruiwang/Documents/ESPACE-LECTURE/3rd_semester/Data science of earth observation/Project_data_science/npy/'\n",
    "split_ratio = 0.8\n",
    "dir_samples = path + \"/*.npy\"\n",
    "samples = glob.glob(dir_samples)\n",
    "\n",
    "# merge them\n",
    "t_samples = np.load(samples[0], allow_pickle=True)\n",
    "\n",
    "for i, p in tqdm(enumerate(samples[1:])):\n",
    "    try:\n",
    "        t_samples = np.concatenate(\n",
    "            (t_samples, np.load(p, allow_pickle=True))\n",
    "        )\n",
    "    except Exception:\n",
    "        print(p)\n",
    "        \n",
    "np.random.shuffle(t_samples,)\n",
    "\n",
    "train_num = int(len(t_samples)*split_ratio)\n",
    "\n",
    "t_sample = t_samples[:train_num]\n",
    "v_sample = t_samples[train_num:]\n",
    "\n",
    "\n",
    "# define the train/valid path\n",
    "t_samples_merge_path = path + \"merge/train_merge.npy\"\n",
    "v_samples_merge_path = path + \"merge/val_merge.npy\"\n",
    "\n",
    "np.save(t_samples_merge_path, t_sample)\n",
    "np.save(v_samples_merge_path, v_sample)\n",
    "\n",
    "print(\"Now all merge samples are saved!\")"
   ]
  },
  {
   "cell_type": "code",
   "execution_count": 3,
   "metadata": {},
   "outputs": [
    {
     "name": "stdout",
     "output_type": "stream",
     "text": [
      "(404, 1, 2)\n",
      "(102, 1, 2)\n"
     ]
    }
   ],
   "source": [
    "train_merge = np.load(t_samples_merge_path,allow_pickle=True)\n",
    "val_merge = np.load(v_samples_merge_path,allow_pickle=True)\n",
    "print (np.array(train_merge).shape)\n",
    "print (np.array(val_merge).shape)"
   ]
  },
  {
   "cell_type": "code",
   "execution_count": 4,
   "metadata": {},
   "outputs": [],
   "source": [
    "\n",
    "number_samples = train_merge.shape[0]\n",
    "data_train = train_merge[:,:,0]\n",
    "\n",
    "X_train= np.zeros((number_samples,  9,9,40), dtype=float)\n",
    "for i in range(0,number_samples-1):\n",
    "    X_train[i,:] = data_train[i,0]\n",
    "\n",
    "Y_train = np.reshape(train_merge[:,:,1],number_samples).astype(int)\n",
    "\n"
   ]
  },
  {
   "cell_type": "code",
   "execution_count": 5,
   "metadata": {},
   "outputs": [],
   "source": [
    "\n",
    "number_samples = val_merge.shape[0]\n",
    "data_val = val_merge[:,:,0]\n",
    "\n",
    "X_val= np.zeros((number_samples,  9,9,40), dtype=float)\n",
    "for i in range(0,number_samples-1):\n",
    "    X_val[i,:] = data_val[i,0]\n",
    "\n",
    "Y_val = np.reshape(val_merge[:,:,1],number_samples).astype(int)"
   ]
  },
  {
   "cell_type": "code",
   "execution_count": 6,
   "metadata": {},
   "outputs": [
    {
     "name": "stdout",
     "output_type": "stream",
     "text": [
      "Post-processed S2_train data shape:  (404, 3240)\n"
     ]
    }
   ],
   "source": [
    "number_samples = X_train.shape[0]\n",
    "X_train_rf = np.reshape(X_train, (number_samples, 9 * 9 * 40))\n",
    "X_train_rf= np.array(pd.DataFrame(X_train_rf).fillna(0))\n",
    "print(\"Post-processed S2_train data shape: \", X_train_rf.shape)"
   ]
  },
  {
   "cell_type": "code",
   "execution_count": 7,
   "metadata": {},
   "outputs": [
    {
     "name": "stdout",
     "output_type": "stream",
     "text": [
      "Post-processed S2_val data shape:  (102, 3240)\n"
     ]
    }
   ],
   "source": [
    "number_samples_v = X_val.shape[0]\n",
    "X_val_rf = np.reshape(X_val, (number_samples_v, 9 * 9 * 40))\n",
    "X_val_rf= np.array(pd.DataFrame(X_val_rf).fillna(0))\n",
    "print(\"Post-processed S2_val data shape: \", X_val_rf.shape)"
   ]
  },
  {
   "cell_type": "code",
   "execution_count": 8,
   "metadata": {},
   "outputs": [
    {
     "data": {
      "text/html": [
       "<style>#sk-container-id-1 {color: black;background-color: white;}#sk-container-id-1 pre{padding: 0;}#sk-container-id-1 div.sk-toggleable {background-color: white;}#sk-container-id-1 label.sk-toggleable__label {cursor: pointer;display: block;width: 100%;margin-bottom: 0;padding: 0.3em;box-sizing: border-box;text-align: center;}#sk-container-id-1 label.sk-toggleable__label-arrow:before {content: \"▸\";float: left;margin-right: 0.25em;color: #696969;}#sk-container-id-1 label.sk-toggleable__label-arrow:hover:before {color: black;}#sk-container-id-1 div.sk-estimator:hover label.sk-toggleable__label-arrow:before {color: black;}#sk-container-id-1 div.sk-toggleable__content {max-height: 0;max-width: 0;overflow: hidden;text-align: left;background-color: #f0f8ff;}#sk-container-id-1 div.sk-toggleable__content pre {margin: 0.2em;color: black;border-radius: 0.25em;background-color: #f0f8ff;}#sk-container-id-1 input.sk-toggleable__control:checked~div.sk-toggleable__content {max-height: 200px;max-width: 100%;overflow: auto;}#sk-container-id-1 input.sk-toggleable__control:checked~label.sk-toggleable__label-arrow:before {content: \"▾\";}#sk-container-id-1 div.sk-estimator input.sk-toggleable__control:checked~label.sk-toggleable__label {background-color: #d4ebff;}#sk-container-id-1 div.sk-label input.sk-toggleable__control:checked~label.sk-toggleable__label {background-color: #d4ebff;}#sk-container-id-1 input.sk-hidden--visually {border: 0;clip: rect(1px 1px 1px 1px);clip: rect(1px, 1px, 1px, 1px);height: 1px;margin: -1px;overflow: hidden;padding: 0;position: absolute;width: 1px;}#sk-container-id-1 div.sk-estimator {font-family: monospace;background-color: #f0f8ff;border: 1px dotted black;border-radius: 0.25em;box-sizing: border-box;margin-bottom: 0.5em;}#sk-container-id-1 div.sk-estimator:hover {background-color: #d4ebff;}#sk-container-id-1 div.sk-parallel-item::after {content: \"\";width: 100%;border-bottom: 1px solid gray;flex-grow: 1;}#sk-container-id-1 div.sk-label:hover label.sk-toggleable__label {background-color: #d4ebff;}#sk-container-id-1 div.sk-serial::before {content: \"\";position: absolute;border-left: 1px solid gray;box-sizing: border-box;top: 0;bottom: 0;left: 50%;z-index: 0;}#sk-container-id-1 div.sk-serial {display: flex;flex-direction: column;align-items: center;background-color: white;padding-right: 0.2em;padding-left: 0.2em;position: relative;}#sk-container-id-1 div.sk-item {position: relative;z-index: 1;}#sk-container-id-1 div.sk-parallel {display: flex;align-items: stretch;justify-content: center;background-color: white;position: relative;}#sk-container-id-1 div.sk-item::before, #sk-container-id-1 div.sk-parallel-item::before {content: \"\";position: absolute;border-left: 1px solid gray;box-sizing: border-box;top: 0;bottom: 0;left: 50%;z-index: -1;}#sk-container-id-1 div.sk-parallel-item {display: flex;flex-direction: column;z-index: 1;position: relative;background-color: white;}#sk-container-id-1 div.sk-parallel-item:first-child::after {align-self: flex-end;width: 50%;}#sk-container-id-1 div.sk-parallel-item:last-child::after {align-self: flex-start;width: 50%;}#sk-container-id-1 div.sk-parallel-item:only-child::after {width: 0;}#sk-container-id-1 div.sk-dashed-wrapped {border: 1px dashed gray;margin: 0 0.4em 0.5em 0.4em;box-sizing: border-box;padding-bottom: 0.4em;background-color: white;}#sk-container-id-1 div.sk-label label {font-family: monospace;font-weight: bold;display: inline-block;line-height: 1.2em;}#sk-container-id-1 div.sk-label-container {text-align: center;}#sk-container-id-1 div.sk-container {/* jupyter's `normalize.less` sets `[hidden] { display: none; }` but bootstrap.min.css set `[hidden] { display: none !important; }` so we also need the `!important` here to be able to override the default hidden behavior on the sphinx rendered scikit-learn.org. See: https://github.com/scikit-learn/scikit-learn/issues/21755 */display: inline-block !important;position: relative;}#sk-container-id-1 div.sk-text-repr-fallback {display: none;}</style><div id=\"sk-container-id-1\" class=\"sk-top-container\"><div class=\"sk-text-repr-fallback\"><pre>RandomForestClassifier(random_state=0)</pre><b>In a Jupyter environment, please rerun this cell to show the HTML representation or trust the notebook. <br />On GitHub, the HTML representation is unable to render, please try loading this page with nbviewer.org.</b></div><div class=\"sk-container\" hidden><div class=\"sk-item\"><div class=\"sk-estimator sk-toggleable\"><input class=\"sk-toggleable__control sk-hidden--visually\" id=\"sk-estimator-id-1\" type=\"checkbox\" checked><label for=\"sk-estimator-id-1\" class=\"sk-toggleable__label sk-toggleable__label-arrow\">RandomForestClassifier</label><div class=\"sk-toggleable__content\"><pre>RandomForestClassifier(random_state=0)</pre></div></div></div></div></div>"
      ],
      "text/plain": [
       "RandomForestClassifier(random_state=0)"
      ]
     },
     "execution_count": 8,
     "metadata": {},
     "output_type": "execute_result"
    }
   ],
   "source": [
    "rf_classifier = RandomForestClassifier(random_state=0)\n",
    "\n",
    "rf_classifier.fit(X_train_rf, Y_train)"
   ]
  },
  {
   "cell_type": "code",
   "execution_count": 9,
   "metadata": {},
   "outputs": [],
   "source": [
    "y_pred_rf = rf_classifier.predict(X_val_rf)"
   ]
  },
  {
   "cell_type": "code",
   "execution_count": 10,
   "metadata": {},
   "outputs": [
    {
     "data": {
      "image/png": "[encoded data removed]",
      "text/plain": [
       "<Figure size 640x480 with 2 Axes>"
      ]
     },
     "metadata": {},
     "output_type": "display_data"
    },
    {
     "name": "stdout",
     "output_type": "stream",
     "text": [
      "Accuracy Random Forest Classifier:  0.09803921568627451\n"
     ]
    }
   ],
   "source": [
    "ConfusionMatrixDisplay.from_predictions(Y_val, y_pred_rf)\n",
    "plt.show()\n",
    "\n",
    "acc_rf = accuracy_score(Y_val, y_pred_rf)\n",
    "print(\"Accuracy Random Forest Classifier: \", acc_rf)"
   ]
  },
  {
   "cell_type": "code",
   "execution_count": 11,
   "metadata": {},
   "outputs": [
    {
     "name": "stdout",
     "output_type": "stream",
     "text": [
      "Metal device set to: Apple M1 Pro\n",
      "\n",
      "systemMemory: 16.00 GB\n",
      "maxCacheSize: 5.33 GB\n",
      "\n"
     ]
    },
    {
     "name": "stderr",
     "output_type": "stream",
     "text": [
      "2023-01-08 03:20:10.850616: I tensorflow/core/common_runtime/pluggable_device/pluggable_device_factory.cc:306] Could not identify NUMA node of platform GPU ID 0, defaulting to 0. Your kernel may not have been built with NUMA support.\n",
      "2023-01-08 03:20:10.850760: I tensorflow/core/common_runtime/pluggable_device/pluggable_device_factory.cc:272] Created TensorFlow device (/job:localhost/replica:0/task:0/device:GPU:0 with 0 MB memory) -> physical PluggableDevice (device: 0, name: METAL, pci bus id: <undefined>)\n"
     ]
    }
   ],
   "source": [
    "simple_model = tf.keras.models.Sequential([\n",
    "  tf.keras.layers.Flatten(input_shape=(9,9,40)),\n",
    "  tf.keras.layers.Dense(128, activation='relu'),\n",
    "  tf.keras.layers.Dropout(0.2),\n",
    "  tf.keras.layers.Dense(5, activation='softmax')\n",
    "])\n",
    "\n",
    "simple_model.compile(optimizer='adam',\n",
    "              loss='sparse_categorical_crossentropy',\n",
    "              metrics=['accuracy'])"
   ]
  },
  {
   "cell_type": "code",
   "execution_count": 12,
   "metadata": {},
   "outputs": [
    {
     "name": "stdout",
     "output_type": "stream",
     "text": [
      "Epoch 1/10\n"
     ]
    },
    {
     "name": "stderr",
     "output_type": "stream",
     "text": [
      "2023-01-08 03:20:15.901501: W tensorflow/core/platform/profile_utils/cpu_utils.cc:128] Failed to get CPU frequency: 0 Hz\n",
      "2023-01-08 03:20:16.050018: I tensorflow/core/grappler/optimizers/custom_graph_optimizer_registry.cc:114] Plugin optimizer for device_type GPU is enabled.\n"
     ]
    },
    {
     "name": "stdout",
     "output_type": "stream",
     "text": [
      "13/13 [==============================] - 1s 28ms/step - loss: 1.2292 - accuracy: 0.2030 - val_loss: 1.1263 - val_accuracy: 0.2353\n",
      "Epoch 2/10\n",
      " 1/13 [=>............................] - ETA: 0s - loss: 1.1838 - accuracy: 0.2500"
     ]
    },
    {
     "name": "stderr",
     "output_type": "stream",
     "text": [
      "2023-01-08 03:20:16.464346: I tensorflow/core/grappler/optimizers/custom_graph_optimizer_registry.cc:114] Plugin optimizer for device_type GPU is enabled.\n"
     ]
    },
    {
     "name": "stdout",
     "output_type": "stream",
     "text": [
      "13/13 [==============================] - 0s 9ms/step - loss: 1.2509 - accuracy: 0.2327 - val_loss: 1.1296 - val_accuracy: 0.1765\n",
      "Epoch 3/10\n",
      "13/13 [==============================] - 0s 9ms/step - loss: 1.3106 - accuracy: 0.2079 - val_loss: 1.1500 - val_accuracy: 0.1961\n",
      "Epoch 4/10\n",
      "13/13 [==============================] - 0s 8ms/step - loss: 1.3397 - accuracy: 0.2104 - val_loss: 1.1379 - val_accuracy: 0.2549\n",
      "Epoch 5/10\n",
      "13/13 [==============================] - 0s 8ms/step - loss: 1.3652 - accuracy: 0.2426 - val_loss: 1.2080 - val_accuracy: 0.2549\n",
      "Epoch 6/10\n",
      "13/13 [==============================] - 0s 8ms/step - loss: 1.5164 - accuracy: 0.1980 - val_loss: 1.1292 - val_accuracy: 0.2549\n",
      "Epoch 7/10\n",
      "13/13 [==============================] - 0s 9ms/step - loss: 1.5837 - accuracy: 0.2252 - val_loss: 1.1443 - val_accuracy: 0.2549\n",
      "Epoch 8/10\n",
      "13/13 [==============================] - 0s 9ms/step - loss: 1.6215 - accuracy: 0.2376 - val_loss: 1.1363 - val_accuracy: 0.2059\n",
      "Epoch 9/10\n",
      "13/13 [==============================] - 0s 8ms/step - loss: 1.7759 - accuracy: 0.2030 - val_loss: 1.2217 - val_accuracy: 0.2353\n",
      "Epoch 10/10\n",
      "13/13 [==============================] - 0s 8ms/step - loss: 1.8535 - accuracy: 0.2351 - val_loss: 1.1340 - val_accuracy: 0.2549\n"
     ]
    }
   ],
   "source": [
    "history = simple_model.fit(X_train, Y_train, epochs=10,validation_data=(X_val, Y_val))"
   ]
  },
  {
   "cell_type": "code",
   "execution_count": 13,
   "metadata": {},
   "outputs": [
    {
     "name": "stdout",
     "output_type": "stream",
     "text": [
      "4/4 [==============================] - 0s 4ms/step\n",
      "Prediction example:  [2.1796937e-05 1.6079387e-01 3.8304406e-01 2.4884109e-01 2.0729917e-01]  Class:  2\n"
     ]
    },
    {
     "name": "stderr",
     "output_type": "stream",
     "text": [
      "2023-01-08 03:20:21.342342: I tensorflow/core/grappler/optimizers/custom_graph_optimizer_registry.cc:114] Plugin optimizer for device_type GPU is enabled.\n"
     ]
    }
   ],
   "source": [
    "y_pred_dl_p = simple_model.predict(X_val)\n",
    "\n",
    "print(\"Prediction example: \", y_pred_dl_p[0,:], \" Class: \", np.argmax(y_pred_dl_p[0,:]))"
   ]
  },
  {
   "cell_type": "code",
   "execution_count": 14,
   "metadata": {},
   "outputs": [
    {
     "data": {
      "image/png": "[encoded data removed]",
      "text/plain": [
       "<Figure size 640x480 with 2 Axes>"
      ]
     },
     "metadata": {},
     "output_type": "display_data"
    },
    {
     "name": "stdout",
     "output_type": "stream",
     "text": [
      "Accuracy Simple Deep Learning model:  0.2549019607843137\n"
     ]
    }
   ],
   "source": [
    "y_pred_dl = np.argmax(y_pred_dl_p, axis=1)\n",
    "\n",
    "ConfusionMatrixDisplay.from_predictions(Y_val, y_pred_dl)\n",
    "plt.show()\n",
    "\n",
    "acc_dl = accuracy_score(Y_val, y_pred_dl)\n",
    "print(\"Accuracy Simple Deep Learning model: \", acc_dl)"
   ]
  },
  {
   "cell_type": "code",
   "execution_count": 15,
   "metadata": {},
   "outputs": [
    {
     "name": "stdout",
     "output_type": "stream",
     "text": [
      "4/4 - 0s - loss: 1.1340 - accuracy: 0.2549 - 51ms/epoch - 13ms/step\n",
      "0.2549019753932953\n"
     ]
    },
    {
     "data": {
      "image/png": "[encoded data removed]",
      "text/plain": [
       "<Figure size 640x480 with 1 Axes>"
      ]
     },
     "metadata": {},
     "output_type": "display_data"
    }
   ],
   "source": [
    "plt.plot(history.history['accuracy'], label='accuracy')\n",
    "plt.plot(history.history['val_accuracy'], label = 'val_accuracy')\n",
    "plt.xlabel('Epoch')\n",
    "plt.ylabel('Accuracy')\n",
    "plt.ylim([0.1, 1])\n",
    "plt.legend(loc='lower right')\n",
    "\n",
    "test_loss, test_acc = simple_model.evaluate(X_val,  Y_val, verbose=2)\n",
    "\n",
    "print(test_acc)"
   ]
  },
  {
   "cell_type": "code",
   "execution_count": 16,
   "metadata": {},
   "outputs": [],
   "source": [
    "model = tf.keras.Sequential(\n",
    "    [\n",
    "    tf.keras.layers.Conv2D(9, (3,3), padding='same', activation=\"relu\",input_shape=(9, 9, 40)),\n",
    "    tf.keras.layers.MaxPooling2D((2, 2), strides=2),\n",
    "\n",
    "    tf.keras.layers.Conv2D(9, (3,3), padding='same', activation=\"relu\"),\n",
    "    tf.keras.layers.MaxPooling2D((2, 2), strides=2),\n",
    "\n",
    "    tf.keras.layers.Flatten(),\n",
    "    tf.keras.layers.Dense(64, activation=\"relu\"),\n",
    "    tf.keras.layers.Dense(5)\n",
    "]\n",
    ")"
   ]
  },
  {
   "cell_type": "code",
   "execution_count": 17,
   "metadata": {},
   "outputs": [
    {
     "name": "stdout",
     "output_type": "stream",
     "text": [
      "Model: \"sequential_1\"\n",
      "_________________________________________________________________\n",
      " Layer (type)                Output Shape              Param #   \n",
      "=================================================================\n",
      " conv2d (Conv2D)             (None, 9, 9, 9)           3249      \n",
      "                                                                 \n",
      " max_pooling2d (MaxPooling2D  (None, 4, 4, 9)          0         \n",
      " )                                                               \n",
      "                                                                 \n",
      " conv2d_1 (Conv2D)           (None, 4, 4, 9)           738       \n",
      "                                                                 \n",
      " max_pooling2d_1 (MaxPooling  (None, 2, 2, 9)          0         \n",
      " 2D)                                                             \n",
      "                                                                 \n",
      " flatten_1 (Flatten)         (None, 36)                0         \n",
      "                                                                 \n",
      " dense_2 (Dense)             (None, 64)                2368      \n",
      "                                                                 \n",
      " dense_3 (Dense)             (None, 5)                 325       \n",
      "                                                                 \n",
      "=================================================================\n",
      "Total params: 6,680\n",
      "Trainable params: 6,680\n",
      "Non-trainable params: 0\n",
      "_________________________________________________________________\n"
     ]
    }
   ],
   "source": [
    "\n",
    "model.summary() "
   ]
  },
  {
   "cell_type": "code",
   "execution_count": 18,
   "metadata": {},
   "outputs": [],
   "source": [
    "\n",
    "model.add(layers.Flatten())\n",
    "model.add(layers.Dense(64, activation='relu'))\n",
    "model.add(layers.Dense(5))"
   ]
  },
  {
   "cell_type": "code",
   "execution_count": 19,
   "metadata": {},
   "outputs": [
    {
     "name": "stdout",
     "output_type": "stream",
     "text": [
      "Model: \"sequential_1\"\n",
      "_________________________________________________________________\n",
      " Layer (type)                Output Shape              Param #   \n",
      "=================================================================\n",
      " conv2d (Conv2D)             (None, 9, 9, 9)           3249      \n",
      "                                                                 \n",
      " max_pooling2d (MaxPooling2D  (None, 4, 4, 9)          0         \n",
      " )                                                               \n",
      "                                                                 \n",
      " conv2d_1 (Conv2D)           (None, 4, 4, 9)           738       \n",
      "                                                                 \n",
      " max_pooling2d_1 (MaxPooling  (None, 2, 2, 9)          0         \n",
      " 2D)                                                             \n",
      "                                                                 \n",
      " flatten_1 (Flatten)         (None, 36)                0         \n",
      "                                                                 \n",
      " dense_2 (Dense)             (None, 64)                2368      \n",
      "                                                                 \n",
      " dense_3 (Dense)             (None, 5)                 325       \n",
      "                                                                 \n",
      " flatten_2 (Flatten)         (None, 5)                 0         \n",
      "                                                                 \n",
      " dense_4 (Dense)             (None, 64)                384       \n",
      "                                                                 \n",
      " dense_5 (Dense)             (None, 5)                 325       \n",
      "                                                                 \n",
      "=================================================================\n",
      "Total params: 7,389\n",
      "Trainable params: 7,389\n",
      "Non-trainable params: 0\n",
      "_________________________________________________________________\n"
     ]
    }
   ],
   "source": [
    "\n",
    "model.summary()"
   ]
  },
  {
   "cell_type": "code",
   "execution_count": 20,
   "metadata": {},
   "outputs": [
    {
     "name": "stdout",
     "output_type": "stream",
     "text": [
      "Epoch 1/10\n"
     ]
    },
    {
     "name": "stderr",
     "output_type": "stream",
     "text": [
      "2023-01-08 03:20:45.047699: I tensorflow/core/grappler/optimizers/custom_graph_optimizer_registry.cc:114] Plugin optimizer for device_type GPU is enabled.\n"
     ]
    },
    {
     "name": "stdout",
     "output_type": "stream",
     "text": [
      "13/13 [==============================] - 1s 33ms/step - loss: 1.3050 - accuracy: 0.2252 - val_loss: 1.2644 - val_accuracy: 0.2549\n",
      "Epoch 2/10\n",
      " 1/13 [=>............................] - ETA: 0s - loss: 1.2920 - accuracy: 0.2188"
     ]
    },
    {
     "name": "stderr",
     "output_type": "stream",
     "text": [
      "2023-01-08 03:20:45.511833: I tensorflow/core/grappler/optimizers/custom_graph_optimizer_registry.cc:114] Plugin optimizer for device_type GPU is enabled.\n"
     ]
    },
    {
     "name": "stdout",
     "output_type": "stream",
     "text": [
      "13/13 [==============================] - 0s 13ms/step - loss: 1.2212 - accuracy: 0.2673 - val_loss: 1.1940 - val_accuracy: 0.2549\n",
      "Epoch 3/10\n",
      "13/13 [==============================] - 0s 14ms/step - loss: 1.1535 - accuracy: 0.2698 - val_loss: 1.1628 - val_accuracy: 0.1667\n",
      "Epoch 4/10\n",
      "13/13 [==============================] - 0s 14ms/step - loss: 1.1644 - accuracy: 0.2129 - val_loss: 1.1760 - val_accuracy: 0.1569\n",
      "Epoch 5/10\n",
      "13/13 [==============================] - 0s 14ms/step - loss: 1.1551 - accuracy: 0.2401 - val_loss: 1.1332 - val_accuracy: 0.1961\n",
      "Epoch 6/10\n",
      "13/13 [==============================] - 0s 12ms/step - loss: 1.2224 - accuracy: 0.2079 - val_loss: 1.3711 - val_accuracy: 0.2549\n",
      "Epoch 7/10\n",
      "13/13 [==============================] - 0s 12ms/step - loss: 1.4304 - accuracy: 0.2277 - val_loss: 1.9910 - val_accuracy: 0.2157\n",
      "Epoch 8/10\n",
      "13/13 [==============================] - 0s 12ms/step - loss: 2.1432 - accuracy: 0.2178 - val_loss: 2.8808 - val_accuracy: 0.2549\n",
      "Epoch 9/10\n",
      "13/13 [==============================] - 0s 12ms/step - loss: 5.3586 - accuracy: 0.2574 - val_loss: 12.4176 - val_accuracy: 0.1569\n",
      "Epoch 10/10\n",
      "13/13 [==============================] - 0s 12ms/step - loss: 16.7035 - accuracy: 0.1931 - val_loss: 5.9118 - val_accuracy: 0.1569\n"
     ]
    }
   ],
   "source": [
    "\n",
    "model.compile(optimizer='adam',\n",
    "              loss=tf.keras.losses.SparseCategoricalCrossentropy(from_logits=True),\n",
    "              metrics=['accuracy'])\n",
    "\n",
    "history = model.fit(X_train, Y_train, epochs=10, \n",
    "                    validation_data=(X_val, Y_val))\n",
    "     "
   ]
  },
  {
   "cell_type": "code",
   "execution_count": 21,
   "metadata": {},
   "outputs": [
    {
     "name": "stdout",
     "output_type": "stream",
     "text": [
      "4/4 - 0s - loss: 5.9118 - accuracy: 0.1569 - 64ms/epoch - 16ms/step\n",
      "0.1568627506494522\n"
     ]
    },
    {
     "data": {
      "image/png": "[encoded data removed]",
      "text/plain": [
       "<Figure size 640x480 with 1 Axes>"
      ]
     },
     "metadata": {},
     "output_type": "display_data"
    }
   ],
   "source": [
    "\n",
    "plt.plot(history.history['accuracy'], label='accuracy')\n",
    "plt.plot(history.history['val_accuracy'], label = 'val_accuracy')\n",
    "plt.xlabel('Epoch')\n",
    "plt.ylabel('Accuracy')\n",
    "plt.ylim([0.1, 1])\n",
    "plt.legend(loc='lower right')\n",
    "\n",
    "test_loss, test_acc = model.evaluate(X_val,  Y_val, verbose=2)\n",
    "\n",
    "print(test_acc)"
   ]
  },
  {
   "cell_type": "code",
   "execution_count": 22,
   "metadata": {},
   "outputs": [
    {
     "name": "stdout",
     "output_type": "stream",
     "text": [
      "4/4 [==============================] - 0s 11ms/step\n",
      "Prediction example:  [-1612.751  -1575.3295 -1580.4933 -1583.6124 -1582.2931]  Class:  1\n"
     ]
    },
    {
     "name": "stderr",
     "output_type": "stream",
     "text": [
      "2023-01-08 03:20:52.325612: I tensorflow/core/grappler/optimizers/custom_graph_optimizer_registry.cc:114] Plugin optimizer for device_type GPU is enabled.\n"
     ]
    }
   ],
   "source": [
    "y_pred_cnn_p = model.predict(X_val)\n",
    "\n",
    "print(\"Prediction example: \", y_pred_cnn_p[0,:], \" Class: \", np.argmax(y_pred_cnn_p[0,:]))"
   ]
  },
  {
   "cell_type": "code",
   "execution_count": 23,
   "metadata": {},
   "outputs": [
    {
     "data": {
      "image/png": "[encoded data removed]",
      "text/plain": [
       "<Figure size 640x480 with 2 Axes>"
      ]
     },
     "metadata": {},
     "output_type": "display_data"
    },
    {
     "name": "stdout",
     "output_type": "stream",
     "text": [
      "Accuracy Simple Deep Learning model:  0.1568627450980392\n"
     ]
    }
   ],
   "source": [
    "y_pred_cnn = np.argmax(y_pred_cnn_p, axis=1)\n",
    "\n",
    "ConfusionMatrixDisplay.from_predictions(Y_val, y_pred_cnn)\n",
    "plt.show()\n",
    "\n",
    "acc_dl = accuracy_score(Y_val, y_pred_cnn)\n",
    "print(\"Accuracy Simple Deep Learning model: \", acc_dl)"
   ]
  }
 ],
 "metadata": {
  "kernelspec": {
   "display_name": "tf261",
   "language": "python",
   "name": "python3"
  },
  "language_info": {
   "codemirror_mode": {
    "name": "ipython",
    "version": 3
   },
   "file_extension": ".py",
   "mimetype": "text/x-python",
   "name": "python",
   "nbconvert_exporter": "python",
   "pygments_lexer": "ipython3",
   "version": "3.8.15"
  },
  "orig_nbformat": 4,
  "vscode": {
   "interpreter": {
    "hash": "acaf033a36d6730063271301a09a798aea80818c27628795dce8ca3fc7528a19"
   }
  }
 },
 "nbformat": 4,
 "nbformat_minor": 2
}
